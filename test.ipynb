{
  "nbformat": 4,
  "nbformat_minor": 0,
  "metadata": {
    "colab": {
      "provenance": [],
      "authorship_tag": "ABX9TyPZ2+v0MilUoIE0FPgFKLav",
      "include_colab_link": true
    },
    "kernelspec": {
      "name": "python3",
      "display_name": "Python 3"
    },
    "language_info": {
      "name": "python"
    }
  },
  "cells": [
    {
      "cell_type": "markdown",
      "metadata": {
        "id": "view-in-github",
        "colab_type": "text"
      },
      "source": [
        "<a href=\"https://colab.research.google.com/github/reyangdoit/ReGPT/blob/main/test.ipynb\" target=\"_parent\"><img src=\"https://colab.research.google.com/assets/colab-badge.svg\" alt=\"Open In Colab\"/></a>"
      ]
    },
    {
      "cell_type": "code",
      "execution_count": null,
      "metadata": {
        "id": "hGldHWb0mhT1"
      },
      "outputs": [],
      "source": [
        "# prompt: access openai api and get the answer\n",
        "\n",
        "!pip install openai\n",
        "\n",
        "import openai\n",
        "\n",
        "# Replace with your OpenAI API key\n",
        "openai.api_key = \"YOUR_API_KEY\"\n",
        "\n",
        "def get_openai_answer(prompt):\n",
        "  response = openai.Completion.create(\n",
        "    engine=\"text-davinci-003\",  # Choose an appropriate engine\n",
        "    prompt=prompt,\n",
        "    max_tokens=150  # Adjust as needed\n",
        "  )\n",
        "  return response.choices[0].text.strip()\n",
        "\n",
        "prompt = \"What is the capital of France?\"\n",
        "answer = get_openai_answer(prompt)\n",
        "answer"
      ]
    }
  ]
}